{
 "cells": [
  {
   "cell_type": "code",
   "execution_count": 60,
   "metadata": {},
   "outputs": [],
   "source": [
    "import tensorflow as tf\n",
    "\n",
    "mnist=tf.keras.datasets.mnist #28*28 datatsets"
   ]
  },
  {
   "cell_type": "code",
   "execution_count": 63,
   "metadata": {},
   "outputs": [
    {
     "name": "stdout",
     "output_type": "stream",
     "text": [
      "Downloading data from https://storage.googleapis.com/tensorflow/tf-keras-datasets/mnist.npz\n",
      "11493376/11490434 [==============================] - 48s 4us/step\n"
     ]
    }
   ],
   "source": [
    "(x_train,y_train),(x_test,y_test)=mnist.load_data()\n"
   ]
  },
  {
   "cell_type": "code",
   "execution_count": 78,
   "metadata": {
    "scrolled": true
   },
   "outputs": [
    {
     "data": {
      "text/plain": [
       "<matplotlib.image.AxesImage at 0x24263a55c88>"
      ]
     },
     "execution_count": 78,
     "metadata": {},
     "output_type": "execute_result"
    },
    {
     "data": {
      "image/png": "[encoded data removed]",
      "text/plain": [
       "<Figure size 432x288 with 1 Axes>"
      ]
     },
     "metadata": {
      "needs_background": "light"
     },
     "output_type": "display_data"
    }
   ],
   "source": [
    "import matplotlib.pyplot as plt\n",
    "\n",
    "plt.imshow(x_train[1],cmap=plt.cm.binary)"
   ]
  },
  {
   "cell_type": "code",
   "execution_count": 74,
   "metadata": {},
   "outputs": [
    {
     "data": {
      "text/plain": [
       "255"
      ]
     },
     "execution_count": 74,
     "metadata": {},
     "output_type": "execute_result"
    }
   ],
   "source": [
    "x_train[0].max()"
   ]
  },
  {
   "cell_type": "code",
   "execution_count": 79,
   "metadata": {},
   "outputs": [],
   "source": [
    "x_train=tf.keras.utils.normalize(x_train, axis=1)\n",
    "x_test=tf.keras.utils.normalize(x_test, axis=1)"
   ]
  },
  {
   "cell_type": "code",
   "execution_count": 81,
   "metadata": {},
   "outputs": [
    {
     "data": {
      "text/plain": [
       "1.0"
      ]
     },
     "execution_count": 81,
     "metadata": {},
     "output_type": "execute_result"
    }
   ],
   "source": [
    "x_train.max()"
   ]
  },
  {
   "cell_type": "code",
   "execution_count": 93,
   "metadata": {},
   "outputs": [
    {
     "name": "stdout",
     "output_type": "stream",
     "text": [
      "Train on 60000 samples\n",
      "Epoch 1/150\n",
      "60000/60000 [==============================] - 16s 268us/sample - loss: 0.2650 - accuracy: 0.9183\n",
      "Epoch 2/150\n",
      "60000/60000 [==============================] - 12s 197us/sample - loss: 0.1148 - accuracy: 0.9656\n",
      "Epoch 3/150\n",
      "60000/60000 [==============================] - 10s 166us/sample - loss: 0.0832 - accuracy: 0.9746\n",
      "Epoch 4/150\n",
      "60000/60000 [==============================] - 9s 143us/sample - loss: 0.0652 - accuracy: 0.9800\n",
      "Epoch 5/150\n",
      "60000/60000 [==============================] - 9s 152us/sample - loss: 0.0532 - accuracy: 0.9838\n",
      "Epoch 6/150\n",
      "60000/60000 [==============================] - 9s 157us/sample - loss: 0.0461 - accuracy: 0.9857\n",
      "Epoch 7/150\n",
      "60000/60000 [==============================] - 9s 150us/sample - loss: 0.0397 - accuracy: 0.9878\n",
      "Epoch 8/150\n",
      "60000/60000 [==============================] - 9s 149us/sample - loss: 0.0336 - accuracy: 0.9892\n",
      "Epoch 9/150\n",
      "60000/60000 [==============================] - 8s 139us/sample - loss: 0.0287 - accuracy: 0.9912\n",
      "Epoch 10/150\n",
      "60000/60000 [==============================] - 8s 139us/sample - loss: 0.0272 - accuracy: 0.9915\n",
      "Epoch 11/150\n",
      "60000/60000 [==============================] - 8s 138us/sample - loss: 0.0248 - accuracy: 0.9926\n",
      "Epoch 12/150\n",
      "60000/60000 [==============================] - 8s 140us/sample - loss: 0.0217 - accuracy: 0.9938\n",
      "Epoch 13/150\n",
      "60000/60000 [==============================] - 8s 139us/sample - loss: 0.0204 - accuracy: 0.9942\n",
      "Epoch 14/150\n",
      "60000/60000 [==============================] - 9s 150us/sample - loss: 0.0186 - accuracy: 0.9946\n",
      "Epoch 15/150\n",
      "60000/60000 [==============================] - 10s 161us/sample - loss: 0.0190 - accuracy: 0.9941\n",
      "Epoch 16/150\n",
      "60000/60000 [==============================] - 9s 154us/sample - loss: 0.0166 - accuracy: 0.9948\n",
      "Epoch 17/150\n",
      "60000/60000 [==============================] - 9s 151us/sample - loss: 0.0171 - accuracy: 0.9951\n",
      "Epoch 18/150\n",
      "60000/60000 [==============================] - 9s 148us/sample - loss: 0.0146 - accuracy: 0.9956\n",
      "Epoch 19/150\n",
      "60000/60000 [==============================] - 9s 148us/sample - loss: 0.0139 - accuracy: 0.9956\n",
      "Epoch 20/150\n",
      "60000/60000 [==============================] - 8s 131us/sample - loss: 0.0150 - accuracy: 0.9956\n",
      "Epoch 21/150\n",
      "60000/60000 [==============================] - 9s 157us/sample - loss: 0.0138 - accuracy: 0.9961\n",
      "Epoch 22/150\n",
      "60000/60000 [==============================] - 8s 136us/sample - loss: 0.0120 - accuracy: 0.9969\n",
      "Epoch 23/150\n",
      "60000/60000 [==============================] - 8s 137us/sample - loss: 0.0131 - accuracy: 0.9961\n",
      "Epoch 24/150\n",
      "60000/60000 [==============================] - 9s 142us/sample - loss: 0.0130 - accuracy: 0.9964\n",
      "Epoch 25/150\n",
      "60000/60000 [==============================] - 8s 138us/sample - loss: 0.0142 - accuracy: 0.9962\n",
      "Epoch 26/150\n",
      "60000/60000 [==============================] - 8s 134us/sample - loss: 0.0109 - accuracy: 0.9971\n",
      "Epoch 27/150\n",
      "60000/60000 [==============================] - 8s 135us/sample - loss: 0.0117 - accuracy: 0.9969\n",
      "Epoch 28/150\n",
      "60000/60000 [==============================] - 10s 161us/sample - loss: 0.0112 - accuracy: 0.9973\n",
      "Epoch 29/150\n",
      "60000/60000 [==============================] - 9s 156us/sample - loss: 0.0095 - accuracy: 0.9975\n",
      "Epoch 30/150\n",
      "60000/60000 [==============================] - 8s 131us/sample - loss: 0.0123 - accuracy: 0.9968\n",
      "Epoch 31/150\n",
      "60000/60000 [==============================] - 8s 129us/sample - loss: 0.0115 - accuracy: 0.9968\n",
      "Epoch 32/150\n",
      "60000/60000 [==============================] - 9s 143us/sample - loss: 0.0080 - accuracy: 0.9981\n",
      "Epoch 33/150\n",
      "60000/60000 [==============================] - 8s 139us/sample - loss: 0.0126 - accuracy: 0.9972\n",
      "Epoch 34/150\n",
      "60000/60000 [==============================] - 8s 133us/sample - loss: 0.0094 - accuracy: 0.9976\n",
      "Epoch 35/150\n",
      "60000/60000 [==============================] - 8s 130us/sample - loss: 0.0106 - accuracy: 0.9974\n",
      "Epoch 36/150\n",
      "60000/60000 [==============================] - 8s 129us/sample - loss: 0.0095 - accuracy: 0.9979\n",
      "Epoch 37/150\n",
      "60000/60000 [==============================] - 8s 128us/sample - loss: 0.0091 - accuracy: 0.9978\n",
      "Epoch 38/150\n",
      "60000/60000 [==============================] - 8s 128us/sample - loss: 0.0094 - accuracy: 0.9977\n",
      "Epoch 39/150\n",
      "60000/60000 [==============================] - 8s 129us/sample - loss: 0.0091 - accuracy: 0.9980\n",
      "Epoch 40/150\n",
      "60000/60000 [==============================] - 8s 132us/sample - loss: 0.0128 - accuracy: 0.9973\n",
      "Epoch 41/150\n",
      "60000/60000 [==============================] - 8s 131us/sample - loss: 0.0079 - accuracy: 0.9982\n",
      "Epoch 42/150\n",
      "60000/60000 [==============================] - 8s 130us/sample - loss: 0.0075 - accuracy: 0.9981\n",
      "Epoch 43/150\n",
      "60000/60000 [==============================] - 8s 131us/sample - loss: 0.0085 - accuracy: 0.9978\n",
      "Epoch 44/150\n",
      "60000/60000 [==============================] - 8s 131us/sample - loss: 0.0089 - accuracy: 0.9979\n",
      "Epoch 45/150\n",
      "60000/60000 [==============================] - 8s 129us/sample - loss: 0.0061 - accuracy: 0.9984\n",
      "Epoch 46/150\n",
      "60000/60000 [==============================] - 8s 131us/sample - loss: 0.0108 - accuracy: 0.9975\n",
      "Epoch 47/150\n",
      "60000/60000 [==============================] - 8s 130us/sample - loss: 0.0070 - accuracy: 0.9983\n",
      "Epoch 48/150\n",
      "60000/60000 [==============================] - 8s 130us/sample - loss: 0.0060 - accuracy: 0.9984\n",
      "Epoch 49/150\n",
      "60000/60000 [==============================] - 8s 131us/sample - loss: 0.0087 - accuracy: 0.9982\n",
      "Epoch 50/150\n",
      "60000/60000 [==============================] - 8s 130us/sample - loss: 0.0088 - accuracy: 0.9984\n",
      "Epoch 51/150\n",
      "60000/60000 [==============================] - 8s 131us/sample - loss: 0.0076 - accuracy: 0.9980\n",
      "Epoch 52/150\n",
      "60000/60000 [==============================] - 8s 130us/sample - loss: 0.0074 - accuracy: 0.9983\n",
      "Epoch 53/150\n",
      "60000/60000 [==============================] - 8s 132us/sample - loss: 0.0053 - accuracy: 0.9987\n",
      "Epoch 54/150\n",
      "60000/60000 [==============================] - 8s 133us/sample - loss: 0.0098 - accuracy: 0.9980\n",
      "Epoch 55/150\n",
      "60000/60000 [==============================] - 8s 133us/sample - loss: 0.0045 - accuracy: 0.9988\n",
      "Epoch 56/150\n",
      "60000/60000 [==============================] - 8s 137us/sample - loss: 0.0076 - accuracy: 0.9980\n",
      "Epoch 57/150\n",
      "60000/60000 [==============================] - 8s 135us/sample - loss: 0.0058 - accuracy: 0.9989\n",
      "Epoch 58/150\n",
      "60000/60000 [==============================] - 8s 134us/sample - loss: 0.0122 - accuracy: 0.9984\n",
      "Epoch 59/150\n",
      "60000/60000 [==============================] - 8s 133us/sample - loss: 0.0033 - accuracy: 0.9993\n",
      "Epoch 60/150\n",
      "60000/60000 [==============================] - 8s 132us/sample - loss: 0.0108 - accuracy: 0.9978\n",
      "Epoch 61/150\n",
      "60000/60000 [==============================] - 8s 130us/sample - loss: 0.0043 - accuracy: 0.9989\n",
      "Epoch 62/150\n",
      "60000/60000 [==============================] - 8s 135us/sample - loss: 0.0067 - accuracy: 0.9987\n",
      "Epoch 63/150\n",
      "60000/60000 [==============================] - 8s 129us/sample - loss: 0.0085 - accuracy: 0.9984\n",
      "Epoch 64/150\n",
      "60000/60000 [==============================] - 8s 129us/sample - loss: 0.0060 - accuracy: 0.9986\n",
      "Epoch 65/150\n",
      "60000/60000 [==============================] - 8s 131us/sample - loss: 0.0073 - accuracy: 0.9989\n",
      "Epoch 66/150\n",
      "60000/60000 [==============================] - 8s 131us/sample - loss: 0.0087 - accuracy: 0.9982\n",
      "Epoch 67/150\n",
      "60000/60000 [==============================] - 8s 131us/sample - loss: 0.0068 - accuracy: 0.9988\n",
      "Epoch 68/150\n",
      "60000/60000 [==============================] - 8s 129us/sample - loss: 0.0054 - accuracy: 0.9988\n",
      "Epoch 69/150\n",
      "60000/60000 [==============================] - 8s 129us/sample - loss: 0.0046 - accuracy: 0.9991\n",
      "Epoch 70/150\n",
      "60000/60000 [==============================] - 9s 149us/sample - loss: 0.0093 - accuracy: 0.9984\n",
      "Epoch 71/150\n",
      "60000/60000 [==============================] - 8s 131us/sample - loss: 0.0053 - accuracy: 0.9989\n",
      "Epoch 72/150\n",
      "60000/60000 [==============================] - 8s 132us/sample - loss: 0.0080 - accuracy: 0.9985\n",
      "Epoch 73/150\n",
      "60000/60000 [==============================] - 8s 130us/sample - loss: 0.0036 - accuracy: 0.9991\n",
      "Epoch 74/150\n",
      "60000/60000 [==============================] - 8s 129us/sample - loss: 0.0074 - accuracy: 0.9984\n",
      "Epoch 75/150\n"
     ]
    },
    {
     "name": "stdout",
     "output_type": "stream",
     "text": [
      "60000/60000 [==============================] - 8s 129us/sample - loss: 0.0074 - accuracy: 0.9987\n",
      "Epoch 76/150\n",
      "60000/60000 [==============================] - 8s 140us/sample - loss: 0.0047 - accuracy: 0.9990\n",
      "Epoch 77/150\n",
      "60000/60000 [==============================] - 8s 133us/sample - loss: 0.0071 - accuracy: 0.9986\n",
      "Epoch 78/150\n",
      "60000/60000 [==============================] - 8s 141us/sample - loss: 0.0035 - accuracy: 0.9992\n",
      "Epoch 79/150\n",
      "60000/60000 [==============================] - 8s 135us/sample - loss: 0.0062 - accuracy: 0.9990\n",
      "Epoch 80/150\n",
      "60000/60000 [==============================] - 8s 134us/sample - loss: 0.0076 - accuracy: 0.9986\n",
      "Epoch 81/150\n",
      "60000/60000 [==============================] - 9s 147us/sample - loss: 0.0073 - accuracy: 0.9986\n",
      "Epoch 82/150\n",
      "60000/60000 [==============================] - 8s 132us/sample - loss: 0.0056 - accuracy: 0.9987\n",
      "Epoch 83/150\n",
      "60000/60000 [==============================] - 8s 141us/sample - loss: 0.0059 - accuracy: 0.9988\n",
      "Epoch 84/150\n",
      "60000/60000 [==============================] - 8s 134us/sample - loss: 0.0036 - accuracy: 0.9995\n",
      "Epoch 85/150\n",
      "60000/60000 [==============================] - 9s 143us/sample - loss: 0.0077 - accuracy: 0.9988\n",
      "Epoch 86/150\n",
      "60000/60000 [==============================] - 8s 138us/sample - loss: 0.0101 - accuracy: 0.9980\n",
      "Epoch 87/150\n",
      "60000/60000 [==============================] - 10s 167us/sample - loss: 0.0051 - accuracy: 0.9991\n",
      "Epoch 88/150\n",
      "60000/60000 [==============================] - 9s 145us/sample - loss: 0.0080 - accuracy: 0.9987\n",
      "Epoch 89/150\n",
      "60000/60000 [==============================] - 9s 142us/sample - loss: 0.0055 - accuracy: 0.9990\n",
      "Epoch 90/150\n",
      "60000/60000 [==============================] - 8s 138us/sample - loss: 0.0050 - accuracy: 0.9988\n",
      "Epoch 91/150\n",
      "60000/60000 [==============================] - 8s 132us/sample - loss: 0.0053 - accuracy: 0.9991\n",
      "Epoch 92/150\n",
      "60000/60000 [==============================] - 9s 143us/sample - loss: 0.0092 - accuracy: 0.9987\n",
      "Epoch 93/150\n",
      "60000/60000 [==============================] - 9s 143us/sample - loss: 0.0036 - accuracy: 0.9993\n",
      "Epoch 94/150\n",
      "60000/60000 [==============================] - 10s 168us/sample - loss: 0.0064 - accuracy: 0.9989\n",
      "Epoch 95/150\n",
      "60000/60000 [==============================] - 9s 147us/sample - loss: 0.0053 - accuracy: 0.9991\n",
      "Epoch 96/150\n",
      "60000/60000 [==============================] - 9s 144us/sample - loss: 0.0051 - accuracy: 0.9991\n",
      "Epoch 97/150\n",
      "60000/60000 [==============================] - 8s 133us/sample - loss: 0.0043 - accuracy: 0.9991\n",
      "Epoch 98/150\n",
      "60000/60000 [==============================] - 9s 144us/sample - loss: 0.0089 - accuracy: 0.9986\n",
      "Epoch 99/150\n",
      "60000/60000 [==============================] - 9s 154us/sample - loss: 0.0040 - accuracy: 0.9991\n",
      "Epoch 100/150\n",
      "60000/60000 [==============================] - 9s 151us/sample - loss: 0.0067 - accuracy: 0.9989\n",
      "Epoch 101/150\n",
      "60000/60000 [==============================] - 11s 178us/sample - loss: 0.0053 - accuracy: 0.9992\n",
      "Epoch 102/150\n",
      "60000/60000 [==============================] - 12s 201us/sample - loss: 0.0045 - accuracy: 0.9990\n",
      "Epoch 103/150\n",
      "60000/60000 [==============================] - 10s 158us/sample - loss: 0.0035 - accuracy: 0.9994\n",
      "Epoch 104/150\n",
      "60000/60000 [==============================] - 9s 155us/sample - loss: 0.0109 - accuracy: 0.9987\n",
      "Epoch 105/150\n",
      "60000/60000 [==============================] - 11s 185us/sample - loss: 0.0039 - accuracy: 0.9992\n",
      "Epoch 106/150\n",
      "60000/60000 [==============================] - 10s 162us/sample - loss: 0.0097 - accuracy: 0.9984\n",
      "Epoch 107/150\n",
      "60000/60000 [==============================] - 9s 142us/sample - loss: 0.0058 - accuracy: 0.9990\n",
      "Epoch 108/150\n",
      "60000/60000 [==============================] - 8s 139us/sample - loss: 0.0058 - accuracy: 0.9989\n",
      "Epoch 109/150\n",
      "60000/60000 [==============================] - 8s 135us/sample - loss: 0.0026 - accuracy: 0.9996\n",
      "Epoch 110/150\n",
      "60000/60000 [==============================] - 8s 134us/sample - loss: 0.0094 - accuracy: 0.9989\n",
      "Epoch 111/150\n",
      "60000/60000 [==============================] - 8s 136us/sample - loss: 0.0019 - accuracy: 0.9996\n",
      "Epoch 112/150\n",
      "60000/60000 [==============================] - 8s 140us/sample - loss: 0.0047 - accuracy: 0.9996 - loss: 0.0045 - accu\n",
      "Epoch 113/150\n",
      "60000/60000 [==============================] - 8s 135us/sample - loss: 0.0087 - accuracy: 0.9986\n",
      "Epoch 114/150\n",
      "60000/60000 [==============================] - 8s 135us/sample - loss: 0.0082 - accuracy: 0.9986\n",
      "Epoch 115/150\n",
      "60000/60000 [==============================] - 8s 138us/sample - loss: 0.0048 - accuracy: 0.9992\n",
      "Epoch 116/150\n",
      "60000/60000 [==============================] - 9s 143us/sample - loss: 0.0119 - accuracy: 0.9984\n",
      "Epoch 117/150\n",
      "60000/60000 [==============================] - 9s 148us/sample - loss: 0.0049 - accuracy: 0.9992\n",
      "Epoch 118/150\n",
      "60000/60000 [==============================] - 9s 149us/sample - loss: 0.0062 - accuracy: 0.9989\n",
      "Epoch 119/150\n",
      "60000/60000 [==============================] - 10s 172us/sample - loss: 0.0067 - accuracy: 0.9992\n",
      "Epoch 120/150\n",
      "60000/60000 [==============================] - 8s 139us/sample - loss: 0.0050 - accuracy: 0.9992\n",
      "Epoch 121/150\n",
      "60000/60000 [==============================] - 8s 135us/sample - loss: 0.0048 - accuracy: 0.9991\n",
      "Epoch 122/150\n",
      "60000/60000 [==============================] - 8s 134us/sample - loss: 0.0085 - accuracy: 0.9988\n",
      "Epoch 123/150\n",
      "60000/60000 [==============================] - 8s 140us/sample - loss: 0.0064 - accuracy: 0.9990\n",
      "Epoch 124/150\n",
      "60000/60000 [==============================] - 10s 172us/sample - loss: 0.0051 - accuracy: 0.9990\n",
      "Epoch 125/150\n",
      "60000/60000 [==============================] - 9s 148us/sample - loss: 0.0023 - accuracy: 0.9995\n",
      "Epoch 126/150\n",
      "60000/60000 [==============================] - 9s 150us/sample - loss: 0.0051 - accuracy: 0.9989\n",
      "Epoch 127/150\n",
      "60000/60000 [==============================] - 9s 143us/sample - loss: 0.0077 - accuracy: 0.9990\n",
      "Epoch 128/150\n",
      "60000/60000 [==============================] - 8s 136us/sample - loss: 0.0063 - accuracy: 0.9989\n",
      "Epoch 129/150\n",
      "60000/60000 [==============================] - 8s 130us/sample - loss: 0.0032 - accuracy: 0.9994\n",
      "Epoch 130/150\n",
      "60000/60000 [==============================] - 8s 130us/sample - loss: 0.0065 - accuracy: 0.9989\n",
      "Epoch 131/150\n",
      "60000/60000 [==============================] - 8s 131us/sample - loss: 0.0078 - accuracy: 0.9991\n",
      "Epoch 132/150\n",
      "60000/60000 [==============================] - 8s 131us/sample - loss: 0.0042 - accuracy: 0.9993\n",
      "Epoch 133/150\n",
      "60000/60000 [==============================] - 8s 136us/sample - loss: 0.0074 - accuracy: 0.9991\n",
      "Epoch 134/150\n",
      "60000/60000 [==============================] - 8s 132us/sample - loss: 0.0045 - accuracy: 0.9994\n",
      "Epoch 135/150\n",
      "60000/60000 [==============================] - 8s 130us/sample - loss: 0.0024 - accuracy: 0.9995\n",
      "Epoch 136/150\n",
      "60000/60000 [==============================] - 8s 132us/sample - loss: 0.0088 - accuracy: 0.9988\n",
      "Epoch 137/150\n",
      "60000/60000 [==============================] - 9s 147us/sample - loss: 0.0073 - accuracy: 0.9986\n",
      "Epoch 138/150\n",
      "60000/60000 [==============================] - 8s 140us/sample - loss: 0.0048 - accuracy: 0.9990\n",
      "Epoch 139/150\n",
      "60000/60000 [==============================] - 8s 137us/sample - loss: 0.0067 - accuracy: 0.9989\n",
      "Epoch 140/150\n",
      "60000/60000 [==============================] - 8s 133us/sample - loss: 0.0076 - accuracy: 0.9987\n",
      "Epoch 141/150\n",
      "60000/60000 [==============================] - 8s 130us/sample - loss: 0.0082 - accuracy: 0.9989\n",
      "Epoch 142/150\n",
      "60000/60000 [==============================] - 8s 130us/sample - loss: 0.0053 - accuracy: 0.9990\n",
      "Epoch 143/150\n",
      "60000/60000 [==============================] - 10s 159us/sample - loss: 9.5458e-04 - accuracy: 0.9998- loss: 9.4243e-04 - accuracy\n",
      "Epoch 144/150\n",
      "60000/60000 [==============================] - 9s 158us/sample - loss: 0.0044 - accuracy: 0.9995\n",
      "Epoch 145/150\n",
      "60000/60000 [==============================] - 11s 177us/sample - loss: 0.0056 - accuracy: 0.9991\n",
      "Epoch 146/150\n",
      "60000/60000 [==============================] - 10s 164us/sample - loss: 0.0077 - accuracy: 0.9989\n",
      "Epoch 147/150\n",
      "60000/60000 [==============================] - 11s 177us/sample - loss: 0.0028 - accuracy: 0.9995\n",
      "Epoch 148/150\n"
     ]
    },
    {
     "name": "stdout",
     "output_type": "stream",
     "text": [
      "60000/60000 [==============================] - 9s 151us/sample - loss: 0.0027 - accuracy: 0.9994\n",
      "Epoch 149/150\n",
      "60000/60000 [==============================] - 9s 152us/sample - loss: 0.0322 - accuracy: 0.9983\n",
      "Epoch 150/150\n",
      "60000/60000 [==============================] - 9s 150us/sample - loss: 0.0023 - accuracy: 0.9995\n"
     ]
    },
    {
     "data": {
      "text/plain": [
       "<tensorflow.python.keras.callbacks.History at 0x24263df0c48>"
      ]
     },
     "execution_count": 93,
     "metadata": {},
     "output_type": "execute_result"
    }
   ],
   "source": [
    "model=tf.keras.models.Sequential()\n",
    "model.add(tf.keras.layers.Flatten())\n",
    "model.add(tf.keras.layers.Dense(128, activation=tf.nn.relu))\n",
    "model.add(tf.keras.layers.Dense(128, activation=tf.nn.relu))\n",
    "model.add(tf.keras.layers.Dense(128, activation=tf.nn.relu))\n",
    "model.add(tf.keras.layers.Dense(128, activation=tf.nn.relu))\n",
    "model.add(tf.keras.layers.Dense(128, activation=tf.nn.relu))\n",
    "model.add(tf.keras.layers.Dense(10, activation=tf.nn.softmax))\n",
    "\n",
    "model.compile(optimizer=\"adam\",\n",
    "             loss=\"sparse_categorical_crossentropy\",\n",
    "             metrics=[\"accuracy\"])\n",
    "model.fit(x_train,y_train,epochs=150)"
   ]
  },
  {
   "cell_type": "code",
   "execution_count": 94,
   "metadata": {},
   "outputs": [
    {
     "name": "stdout",
     "output_type": "stream",
     "text": [
      "10000/10000 [==============================] - 1s 93us/sample - loss: 0.6229 - accuracy: 0.9785\n"
     ]
    },
    {
     "data": {
      "text/plain": [
       "(0.6229283375091718, 0.9785)"
      ]
     },
     "execution_count": 94,
     "metadata": {},
     "output_type": "execute_result"
    }
   ],
   "source": [
    "val_loss,val_acc=model.evaluate(x_test,y_test)\n",
    "val_loss,val_acc"
   ]
  },
  {
   "cell_type": "code",
   "execution_count": 95,
   "metadata": {},
   "outputs": [
    {
     "name": "stdout",
     "output_type": "stream",
     "text": [
      "INFO:tensorflow:Assets written to: digit_master.model\\assets\n"
     ]
    }
   ],
   "source": [
    "model.save(\"digit_master.model\")"
   ]
  },
  {
   "cell_type": "code",
   "execution_count": null,
   "metadata": {},
   "outputs": [],
   "source": []
  },
  {
   "cell_type": "code",
   "execution_count": null,
   "metadata": {},
   "outputs": [],
   "source": []
  }
 ],
 "metadata": {
  "kernelspec": {
   "display_name": "Python 3",
   "language": "python",
   "name": "python3"
  },
  "language_info": {
   "codemirror_mode": {
    "name": "ipython",
    "version": 3
   },
   "file_extension": ".py",
   "mimetype": "text/x-python",
   "name": "python",
   "nbconvert_exporter": "python",
   "pygments_lexer": "ipython3",
   "version": "3.7.7"
  }
 },
 "nbformat": 4,
 "nbformat_minor": 4
}
